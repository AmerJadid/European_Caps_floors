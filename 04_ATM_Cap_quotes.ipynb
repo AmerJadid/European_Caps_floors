{
 "cells": [
  {
   "cell_type": "code",
   "execution_count": 1,
   "id": "b46c4b4c",
   "metadata": {},
   "outputs": [],
   "source": [
    "from sympy import *\n",
    "import numpy as np\n",
    "import matplotlib.pyplot as plt\n",
    "from scipy.stats import norm\n",
    "import pandas as pd"
   ]
  },
  {
   "cell_type": "code",
   "execution_count": 2,
   "id": "d6a886c7",
   "metadata": {},
   "outputs": [],
   "source": [
    "data_dict = {'Maturity (yrs)': [1, 2, 3, 4, 5, 6, 7, 8, 9, 10, 15, 20, 30], \n",
    " 'Cap ATM Price(%)': [0.08, 0.35, 0.84, 1.61, 2.54, 3.6, 4.6, 5.62, 6.65, 7.67, 12.38, 16.15, 22.35],\n",
    " 'Black ATM Vol(%)': [93.81, 90.31, 65.94, 58.65, 53.14, 49.12, 45.59, 42.17, 39.59, 37.04, 30.86, 28.7, 27.39],\n",
    " 'Normal ATM Vol(bps)': [33.23, 46.94, 60.15, 70.25, 77.76, 83.54, 85.6, 86.46, 86.94, 86.52, 84.08, 79.81, 73.01]}\n",
    "df = pd.DataFrame(data_dict).set_index('Maturity (yrs)')"
   ]
  },
  {
   "cell_type": "code",
   "execution_count": 3,
   "id": "56ff1ac1",
   "metadata": {},
   "outputs": [
    {
     "data": {
      "text/html": [
       "<div>\n",
       "<style scoped>\n",
       "    .dataframe tbody tr th:only-of-type {\n",
       "        vertical-align: middle;\n",
       "    }\n",
       "\n",
       "    .dataframe tbody tr th {\n",
       "        vertical-align: top;\n",
       "    }\n",
       "\n",
       "    .dataframe thead th {\n",
       "        text-align: right;\n",
       "    }\n",
       "</style>\n",
       "<table border=\"1\" class=\"dataframe\">\n",
       "  <thead>\n",
       "    <tr style=\"text-align: right;\">\n",
       "      <th></th>\n",
       "      <th>Cap ATM Price(%)</th>\n",
       "      <th>Black ATM Vol(%)</th>\n",
       "      <th>Normal ATM Vol(bps)</th>\n",
       "    </tr>\n",
       "    <tr>\n",
       "      <th>Maturity (yrs)</th>\n",
       "      <th></th>\n",
       "      <th></th>\n",
       "      <th></th>\n",
       "    </tr>\n",
       "  </thead>\n",
       "  <tbody>\n",
       "    <tr>\n",
       "      <th>1</th>\n",
       "      <td>0.08</td>\n",
       "      <td>93.81</td>\n",
       "      <td>33.23</td>\n",
       "    </tr>\n",
       "    <tr>\n",
       "      <th>2</th>\n",
       "      <td>0.35</td>\n",
       "      <td>90.31</td>\n",
       "      <td>46.94</td>\n",
       "    </tr>\n",
       "    <tr>\n",
       "      <th>3</th>\n",
       "      <td>0.84</td>\n",
       "      <td>65.94</td>\n",
       "      <td>60.15</td>\n",
       "    </tr>\n",
       "    <tr>\n",
       "      <th>4</th>\n",
       "      <td>1.61</td>\n",
       "      <td>58.65</td>\n",
       "      <td>70.25</td>\n",
       "    </tr>\n",
       "    <tr>\n",
       "      <th>5</th>\n",
       "      <td>2.54</td>\n",
       "      <td>53.14</td>\n",
       "      <td>77.76</td>\n",
       "    </tr>\n",
       "    <tr>\n",
       "      <th>6</th>\n",
       "      <td>3.60</td>\n",
       "      <td>49.12</td>\n",
       "      <td>83.54</td>\n",
       "    </tr>\n",
       "    <tr>\n",
       "      <th>7</th>\n",
       "      <td>4.60</td>\n",
       "      <td>45.59</td>\n",
       "      <td>85.60</td>\n",
       "    </tr>\n",
       "    <tr>\n",
       "      <th>8</th>\n",
       "      <td>5.62</td>\n",
       "      <td>42.17</td>\n",
       "      <td>86.46</td>\n",
       "    </tr>\n",
       "    <tr>\n",
       "      <th>9</th>\n",
       "      <td>6.65</td>\n",
       "      <td>39.59</td>\n",
       "      <td>86.94</td>\n",
       "    </tr>\n",
       "    <tr>\n",
       "      <th>10</th>\n",
       "      <td>7.67</td>\n",
       "      <td>37.04</td>\n",
       "      <td>86.52</td>\n",
       "    </tr>\n",
       "    <tr>\n",
       "      <th>15</th>\n",
       "      <td>12.38</td>\n",
       "      <td>30.86</td>\n",
       "      <td>84.08</td>\n",
       "    </tr>\n",
       "    <tr>\n",
       "      <th>20</th>\n",
       "      <td>16.15</td>\n",
       "      <td>28.70</td>\n",
       "      <td>79.81</td>\n",
       "    </tr>\n",
       "    <tr>\n",
       "      <th>30</th>\n",
       "      <td>22.35</td>\n",
       "      <td>27.39</td>\n",
       "      <td>73.01</td>\n",
       "    </tr>\n",
       "  </tbody>\n",
       "</table>\n",
       "</div>"
      ],
      "text/plain": [
       "                Cap ATM Price(%)  Black ATM Vol(%)  Normal ATM Vol(bps)\n",
       "Maturity (yrs)                                                         \n",
       "1                           0.08             93.81                33.23\n",
       "2                           0.35             90.31                46.94\n",
       "3                           0.84             65.94                60.15\n",
       "4                           1.61             58.65                70.25\n",
       "5                           2.54             53.14                77.76\n",
       "6                           3.60             49.12                83.54\n",
       "7                           4.60             45.59                85.60\n",
       "8                           5.62             42.17                86.46\n",
       "9                           6.65             39.59                86.94\n",
       "10                          7.67             37.04                86.52\n",
       "15                         12.38             30.86                84.08\n",
       "20                         16.15             28.70                79.81\n",
       "30                         22.35             27.39                73.01"
      ]
     },
     "execution_count": 3,
     "metadata": {},
     "output_type": "execute_result"
    }
   ],
   "source": [
    "df"
   ]
  },
  {
   "cell_type": "code",
   "execution_count": 4,
   "id": "a0b73e92",
   "metadata": {},
   "outputs": [
    {
     "data": {
      "image/png": "[encoded data removed]",
      "text/plain": [
       "<Figure size 576x432 with 2 Axes>"
      ]
     },
     "metadata": {
      "needs_background": "light"
     },
     "output_type": "display_data"
    }
   ],
   "source": [
    "fig, ax = plt.subplots(figsize = [8, 6]);\n",
    "plt.plot(df.index, 'Black ATM Vol(%)', data = df, color = 'k', lw = 2.25, marker ='o')\n",
    "ax.set_xlabel('Maturity (yrs)', size = 16)\n",
    "ax.set_ylabel('Black ATM Vol(%)', size = 16)\n",
    "ax.set_ylim(bottom=20, top = 100)\n",
    "ax.spines[[\"top\", 'right']].set_visible(False)\n",
    "\n",
    "ax2 = ax.twinx()\n",
    "ax2.plot(df.index, df['Normal ATM Vol(bps)'], color='r', marker ='o', \n",
    "         linewidth=2.25)\n",
    "ax2.set_ylabel('Normal ATM Vol(bps)', size = 16, c = 'red')\n",
    "ax2.set_ylim(bottom=20, top = 100)\n",
    "\n",
    "ax.tick_params(direction = 'in', length=6, width=2, colors='k',\n",
    "               grid_color='k', grid_alpha=.1)\n",
    "ax2.tick_params(direction = 'in', length=6, width=2, colors='r',\n",
    "               grid_color='k', grid_alpha=.1)\n",
    "ax2.spines[['left', \"top\"]].set_visible(False)\n",
    "ax2.spines['right'].set_color('red')"
   ]
  }
 ],
 "metadata": {
  "kernelspec": {
   "display_name": "Python 3 (ipykernel)",
   "language": "python",
   "name": "python3"
  },
  "language_info": {
   "codemirror_mode": {
    "name": "ipython",
    "version": 3
   },
   "file_extension": ".py",
   "mimetype": "text/x-python",
   "name": "python",
   "nbconvert_exporter": "python",
   "pygments_lexer": "ipython3",
   "version": "3.9.7"
  }
 },
 "nbformat": 4,
 "nbformat_minor": 5
}
