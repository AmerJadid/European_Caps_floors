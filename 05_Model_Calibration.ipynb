{
 "cells": [
  {
   "cell_type": "code",
   "execution_count": 190,
   "id": "d35b9b64",
   "metadata": {},
   "outputs": [],
   "source": [
    "from sympy import *\n",
    "import numpy as np\n",
    "import pandas as pd\n",
    "import matplotlib.pyplot as plt\n",
    "import seaborn as sns\n",
    "from sympy.plotting import plot3d\n",
    "from sympy.solvers.ode.systems import dsolve_system\n",
    "from scipy.stats import norm\n",
    "from scipy.optimize import minimize\n",
    "from scipy.stats import * # Contains norm pdf and cdf\n",
    "from sympy.core.sympify import sympify\n",
    "\n",
    "from sympy.utilities.lambdify import lambdify"
   ]
  },
  {
   "cell_type": "markdown",
   "id": "a800e59c",
   "metadata": {},
   "source": [
    "# 1-factor Gaussian HJM Model Clibration"
   ]
  },
  {
   "cell_type": "code",
   "execution_count": 191,
   "id": "6eda4f2f",
   "metadata": {},
   "outputs": [],
   "source": [
    "# define symbolic variables\n",
    "T, T0, T1, s, theta, k, sigma, r0, t, x, delta = symbols('T T_0 T_1 s theta kappa sigma r_0 t x delta', positive = True)\n",
    "\n",
    "Ti, Tm1 = symbols('T_i T_{i-1}', positive = True)\n",
    "beta, nu = symbols('beta nu', positive = True)\n",
    "s, u, t = symbols('s u t', positive = True)"
   ]
  },
  {
   "cell_type": "markdown",
   "id": "fb90a14c",
   "metadata": {},
   "source": [
    "## Data"
   ]
  },
  {
   "cell_type": "code",
   "execution_count": 192,
   "id": "3d34cc5c",
   "metadata": {},
   "outputs": [],
   "source": [
    "P = np.array([0.970873786407767, 0.933532486930545, 0.893332523378512, 0.850792879408107, 0.810278932769625, 0.771694221685358, 0.738463370033835, 0.706663511994101])\n",
    "swap_rates = np.array([0.06, 0.08, 0.084889975550122, 0.089691000079435, 0.092085873002506, 0.093519632408032, 0.092999610296819, 0.092628040604575])\n",
    "R = np.array([0.08, 0.089691000079435, 0.093519632408032, 0.092628040604575])\n",
    "F = np.array([0.06, 0.08, 0.09, 0.10, 0.10, 0.10, 0.09, 0.09])\n",
    "quotes = np.array([0.2/100, 0.8/100, 1.2/100, 1.6/100])\n",
    "time = np.arange(0.5, 4.4, 0.5)"
   ]
  },
  {
   "cell_type": "code",
   "execution_count": 193,
   "id": "f645b5f1",
   "metadata": {},
   "outputs": [
    {
     "data": {
      "text/html": [
       "<div>\n",
       "<style scoped>\n",
       "    .dataframe tbody tr th:only-of-type {\n",
       "        vertical-align: middle;\n",
       "    }\n",
       "\n",
       "    .dataframe tbody tr th {\n",
       "        vertical-align: top;\n",
       "    }\n",
       "\n",
       "    .dataframe thead th {\n",
       "        text-align: right;\n",
       "    }\n",
       "</style>\n",
       "<table border=\"1\" class=\"dataframe\">\n",
       "  <thead>\n",
       "    <tr style=\"text-align: right;\">\n",
       "      <th></th>\n",
       "      <th>Price(%)</th>\n",
       "    </tr>\n",
       "    <tr>\n",
       "      <th>Maturity</th>\n",
       "      <th></th>\n",
       "    </tr>\n",
       "  </thead>\n",
       "  <tbody>\n",
       "    <tr>\n",
       "      <th>1.0</th>\n",
       "      <td>0.2</td>\n",
       "    </tr>\n",
       "    <tr>\n",
       "      <th>2.0</th>\n",
       "      <td>0.8</td>\n",
       "    </tr>\n",
       "    <tr>\n",
       "      <th>3.0</th>\n",
       "      <td>1.2</td>\n",
       "    </tr>\n",
       "    <tr>\n",
       "      <th>4.0</th>\n",
       "      <td>1.6</td>\n",
       "    </tr>\n",
       "  </tbody>\n",
       "</table>\n",
       "</div>"
      ],
      "text/plain": [
       "          Price(%)\n",
       "Maturity          \n",
       "1.0            0.2\n",
       "2.0            0.8\n",
       "3.0            1.2\n",
       "4.0            1.6"
      ]
     },
     "execution_count": 193,
     "metadata": {},
     "output_type": "execute_result"
    }
   ],
   "source": [
    "# given only the forward rates, we calculate the discount and the swap rates using the formula in the slides\n",
    "data = pd.DataFrame([time, F, P, swap_rates]).T\n",
    "data.columns = ['Maturity','Forward Rates', 'Discount', 'Swap Rates']\n",
    "data.set_index('Maturity', inplace = True)\n",
    "maturity = [1, 2, 3, 4]\n",
    "maturity_prices = pd.DataFrame([maturity, quotes]).T\n",
    "maturity_prices.columns = ['Maturity', 'Price(%)']\n",
    "maturity_prices.set_index('Maturity', inplace = True)\n",
    "maturity_prices*100"
   ]
  },
  {
   "cell_type": "code",
   "execution_count": 194,
   "id": "44b1fcac",
   "metadata": {},
   "outputs": [
    {
     "data": {
      "text/html": [
       "<div>\n",
       "<style scoped>\n",
       "    .dataframe tbody tr th:only-of-type {\n",
       "        vertical-align: middle;\n",
       "    }\n",
       "\n",
       "    .dataframe tbody tr th {\n",
       "        vertical-align: top;\n",
       "    }\n",
       "\n",
       "    .dataframe thead th {\n",
       "        text-align: right;\n",
       "    }\n",
       "</style>\n",
       "<table border=\"1\" class=\"dataframe\">\n",
       "  <thead>\n",
       "    <tr style=\"text-align: right;\">\n",
       "      <th></th>\n",
       "      <th>Forward Rates</th>\n",
       "      <th>Discount</th>\n",
       "      <th>Swap Rates</th>\n",
       "    </tr>\n",
       "    <tr>\n",
       "      <th>Maturity</th>\n",
       "      <th></th>\n",
       "      <th></th>\n",
       "      <th></th>\n",
       "    </tr>\n",
       "  </thead>\n",
       "  <tbody>\n",
       "    <tr>\n",
       "      <th>0.5</th>\n",
       "      <td>0.06</td>\n",
       "      <td>0.970874</td>\n",
       "      <td>0.060000</td>\n",
       "    </tr>\n",
       "    <tr>\n",
       "      <th>1.0</th>\n",
       "      <td>0.08</td>\n",
       "      <td>0.933532</td>\n",
       "      <td>0.080000</td>\n",
       "    </tr>\n",
       "    <tr>\n",
       "      <th>1.5</th>\n",
       "      <td>0.09</td>\n",
       "      <td>0.893333</td>\n",
       "      <td>0.084890</td>\n",
       "    </tr>\n",
       "    <tr>\n",
       "      <th>2.0</th>\n",
       "      <td>0.10</td>\n",
       "      <td>0.850793</td>\n",
       "      <td>0.089691</td>\n",
       "    </tr>\n",
       "    <tr>\n",
       "      <th>2.5</th>\n",
       "      <td>0.10</td>\n",
       "      <td>0.810279</td>\n",
       "      <td>0.092086</td>\n",
       "    </tr>\n",
       "    <tr>\n",
       "      <th>3.0</th>\n",
       "      <td>0.10</td>\n",
       "      <td>0.771694</td>\n",
       "      <td>0.093520</td>\n",
       "    </tr>\n",
       "    <tr>\n",
       "      <th>3.5</th>\n",
       "      <td>0.09</td>\n",
       "      <td>0.738463</td>\n",
       "      <td>0.093000</td>\n",
       "    </tr>\n",
       "    <tr>\n",
       "      <th>4.0</th>\n",
       "      <td>0.09</td>\n",
       "      <td>0.706664</td>\n",
       "      <td>0.092628</td>\n",
       "    </tr>\n",
       "  </tbody>\n",
       "</table>\n",
       "</div>"
      ],
      "text/plain": [
       "          Forward Rates  Discount  Swap Rates\n",
       "Maturity                                     \n",
       "0.5                0.06  0.970874    0.060000\n",
       "1.0                0.08  0.933532    0.080000\n",
       "1.5                0.09  0.893333    0.084890\n",
       "2.0                0.10  0.850793    0.089691\n",
       "2.5                0.10  0.810279    0.092086\n",
       "3.0                0.10  0.771694    0.093520\n",
       "3.5                0.09  0.738463    0.093000\n",
       "4.0                0.09  0.706664    0.092628"
      ]
     },
     "execution_count": 194,
     "metadata": {},
     "output_type": "execute_result"
    }
   ],
   "source": [
    "data"
   ]
  },
  {
   "cell_type": "markdown",
   "id": "c33c5e19",
   "metadata": {},
   "source": [
    "# Black's Formula for Caplets"
   ]
  },
  {
   "cell_type": "markdown",
   "id": "5d98b4d8",
   "metadata": {},
   "source": [
    "- let $F_i = F(0, T_{i-1}, T_i)$\n",
    "\n",
    "$Cpl(T_{i-1}, T_i) = \\delta P(0,T_i)(F_i \\Phi(d_{1,i}) - \\kappa \\Phi(d_{2,i}))$\n",
    "\n",
    "$d_{1,i} = \\frac{log(F_i/\\kappa)+\\frac{1}{2}\\sigma^2T_{i-1}}{\\sigma\\sqrt{T_{i-1}}}$ and $d_{2,i} = d_{1,i}-\\sigma \\sqrt{T_{i-1}}$"
   ]
  },
  {
   "cell_type": "code",
   "execution_count": 195,
   "id": "079dccaf",
   "metadata": {},
   "outputs": [],
   "source": [
    "# define symbols\n",
    "Fi, P_i = symbols('Fi P_i', positive = True)\n",
    "s1, s2, s3, s4 = symbols('sigma1 sigma2 sigma3 sigma4', positive = True)\n",
    "Phi = Function('Phi')"
   ]
  },
  {
   "cell_type": "code",
   "execution_count": 196,
   "id": "9c70afd9",
   "metadata": {},
   "outputs": [],
   "source": [
    "# define the standard normal distribution function\n",
    "# cdf = 0.5*(1+erf(x/sqrt(2)))\n",
    "cdf = Phi(x)\n",
    "# define d1 and d2\n",
    "d1 = ((ln(Fi/k)+0.5*sigma**2*Tm1)/(sigma*sqrt(Tm1)))\n",
    "d2 = d1 - sigma*sqrt(Tm1)"
   ]
  },
  {
   "cell_type": "code",
   "execution_count": 197,
   "id": "f146f148",
   "metadata": {},
   "outputs": [],
   "source": [
    "# define caplet black's equation\n",
    "cpl = (delta*P_i*(Fi*cdf.subs(x,d1)-k*cdf.subs(x, d2))).subs(delta, 0.5)"
   ]
  },
  {
   "cell_type": "code",
   "execution_count": 198,
   "id": "f4b0c9a3",
   "metadata": {},
   "outputs": [],
   "source": [
    "# define the equation of the 4 caplite between first reset date 0.5 and last rest date 4\n",
    "cpls = np.array([factor(cpl.subs([(P_i, P[i]), (Fi, F[i]), (Tm1, time[i-1])])) for i in range(1, 8)])\n",
    "cpls = np.insert(cpls, 0, 0)"
   ]
  },
  {
   "cell_type": "code",
   "execution_count": 199,
   "id": "6362cd6a",
   "metadata": {},
   "outputs": [],
   "source": [
    "# combine caplets into 4 cap equations\n",
    "i = 2\n",
    "cpl_model = []\n",
    "while i <= 8:\n",
    "    cpl_model.append(sum(cpls[:i]))\n",
    "    i += 2\n",
    "cpl_model = np.array(cpl_model)\n",
    "cpl_model = [cpl_model[i].subs(k, r) for i, r in zip(range(0, 4),R)]"
   ]
  },
  {
   "cell_type": "markdown",
   "id": "fe3171e9",
   "metadata": {},
   "source": [
    "## Implied Black's Volatility\n",
    "\n",
    "- Now using the 4 Caplet equations and the market prices we solve for the volatility\n",
    "\n",
    "- $min_{\\hat{\\sigma_i}}~(Cpl_{mkt_i} - Cpl_{model_i})^2$"
   ]
  },
  {
   "cell_type": "code",
   "execution_count": 82,
   "id": "9c30dbeb",
   "metadata": {},
   "outputs": [],
   "source": [
    "Z = cpl_model-quotes"
   ]
  },
  {
   "cell_type": "code",
   "execution_count": 83,
   "id": "ec77db6f",
   "metadata": {},
   "outputs": [],
   "source": [
    "equations_list = []\n",
    "for eq in Z:\n",
    "    equations_list.append(str([eq][0]).replace('Phi', 'norm.cdf'))"
   ]
  },
  {
   "cell_type": "code",
   "execution_count": 84,
   "id": "2408b553",
   "metadata": {},
   "outputs": [],
   "source": [
    "# calibrate ATM cap prices\n",
    "import math\n",
    "\n",
    "def Z0(sigma):\n",
    "    return eval(equations_list[0])\n",
    "def Z1(sigma):\n",
    "    return eval(equations_list[1])\n",
    "def Z2(sigma):\n",
    "    return eval(equations_list[2])\n",
    "def Z3(sigma):\n",
    "    return eval(equations_list[3])\n"
   ]
  },
  {
   "cell_type": "code",
   "execution_count": 85,
   "id": "ece0dfb6",
   "metadata": {},
   "outputs": [],
   "source": [
    "# solve for the implied volatilities\n",
    "import scipy\n",
    "impl_vol = [scipy.optimize.fsolve(func, 1)[0] for func in [Z0, Z1, Z2, Z3]]"
   ]
  },
  {
   "cell_type": "markdown",
   "id": "c15e2998",
   "metadata": {},
   "source": [
    "- Black Caplet Vega:\n",
    "\n",
    "$\\frac{\\partial Cpl(T_{i-1},T_i)}{\\partial \\sigma} = \\delta P(0,T_i)F_i\\sqrt{T_{i-1}}\\phi(d_{1,i})$\n",
    "\n",
    "- Black Caplet Vegas:\n",
    "\n",
    "$\\frac{\\partial C_n}{\\partial \\sigma} = \\sum_{i=1}^{n}\\frac{\\partial Cpl(T_{i-1}, T_i)}{\\partial \\sigma}$"
   ]
  },
  {
   "cell_type": "code",
   "execution_count": 86,
   "id": "52714405",
   "metadata": {},
   "outputs": [],
   "source": [
    "phi = Function('phi')\n",
    "# pdf = 1/sqrt(2*pi)*exp(-1/2*x**2).subs(x, d1) # The standard normal distribution has probability density (mean 0 and std 1)\n",
    "pdf = phi(x)\n",
    "# 0.5 below represents delta\n",
    "cpl_vega = np.array([(delta*P_i*Fi*sqrt(Tm1)*pdf.subs(x, d1)).subs([(P_i, P[i]),(Tm1, time[i-1]), (Fi, F[i]), (delta, 0.5)]).evalf() for i in range(1, 8)])\n",
    "cpl_vega = np.insert(cpl_vega, 0, 0)"
   ]
  },
  {
   "cell_type": "code",
   "execution_count": 87,
   "id": "8ff1cc33",
   "metadata": {},
   "outputs": [],
   "source": [
    "# combine caplets into 4 cap equations\n",
    "i = 2\n",
    "cpl_vegas = []\n",
    "while i <= 8:\n",
    "    cpl_vegas.append(sum(cpl_vega[:i]))\n",
    "    i += 2\n",
    "cpl_vegas = np.array(cpl_vegas)\n",
    "cpl_vegas = np.array([cpl_vegas[i].subs([(k, r), (sigma, s)]) for i, r, s in zip(range(0, 4),R, impl_vol)])\n",
    "\n",
    "for i in range(len(cpl_vegas)):\n",
    "    cpl_vegas[i] = eval(str(cpl_vegas[i]).replace('phi', 'norm.pdf'))\n",
    "cpl_vegas = cpl_vegas.astype(float)"
   ]
  },
  {
   "cell_type": "code",
   "execution_count": 88,
   "id": "c837384c",
   "metadata": {},
   "outputs": [],
   "source": [
    "table = maturity_prices*100\n",
    "table.index = table.index.astype(int)"
   ]
  },
  {
   "cell_type": "code",
   "execution_count": 127,
   "id": "4901a908",
   "metadata": {},
   "outputs": [],
   "source": [
    "model_prices = []\n",
    "for i in range(4):\n",
    "    cplt_form = cpl_model[i].subs([(beta, 1.52102858), (nu, 0.02934939)])\n",
    "    model_prices.append(eval(str(cplt_form).replace('Phi', 'norm.cdf').replace('sqrt', 'np.sqrt')))\n",
    "model_prices = np.array(model_prices)*100"
   ]
  },
  {
   "cell_type": "markdown",
   "id": "78069b68",
   "metadata": {},
   "source": [
    "## Final Step - Weighted Least Squares Calibration"
   ]
  },
  {
   "cell_type": "markdown",
   "id": "b05318b3",
   "metadata": {},
   "source": [
    "- Volatility Specification (we need to calibrate $\\beta~\\&~\\nu $ )\n",
    "\n",
    "$\\sigma(t,T) = e^{-\\beta(T-t)}\\nu$\n",
    "\n",
    "- Bond return volatility\n",
    "\n",
    "$\\nu(t,T)=\\int_{t}^{T} \\sigma(t,u) \\,du$\n",
    "\n",
    "- Bond put price under Gaussian HJM model is:\n",
    "\n",
    "$Cpl(T_{i-1}, T_i) = (1+\\delta \\kappa)(\\frac{1}{1+\\delta \\kappa}P(0,T_{i-1})\\Phi(-d_2(i))-P(0,T_i)\\Phi(-d_1(i)))$\n",
    "\n",
    "$d_{1,2}(i) = \\frac{log(\\frac{P(0,T_i)}{P(0,T_{i-1})}(1+\\delta \\kappa))\\pm\\frac{1}{2}\\int_{0}^{T_{i-1}} ||\\nu(s, T_{i-1}) - \\nu(s, T_{i})||^{2} \\,ds}{\\sqrt{\\int_{0}^{T_{i-1}} ||\\nu(s, T_{i-1}) - \\nu(s, T_{i})||^{2} \\,ds}}$\n",
    "\n",
    "$\\int_{0}^{T_{i-1}} ||\\nu(s, T_{i-1}) - \\nu(s, T_{i})||^{2} \\,ds$"
   ]
  },
  {
   "cell_type": "code",
   "execution_count": 93,
   "id": "caf1f1ee",
   "metadata": {},
   "outputs": [],
   "source": [
    "# Volatilities\n",
    "volatility = exp(-beta*(u-t))*nu\n",
    "v0 = -integrate(volatility, (u, s, Tm1)).subs(t, s)\n",
    "v1 = -integrate(volatility, (u, s, Ti)).subs(t, s)\n",
    "\n",
    "v01 = factor(integrate((v0-v1)**2, (s, 0, Tm1)))"
   ]
  },
  {
   "cell_type": "code",
   "execution_count": 94,
   "id": "f41165d2",
   "metadata": {},
   "outputs": [],
   "source": [
    "Pm1 = symbols('P_{i-1}', positive = True)"
   ]
  },
  {
   "cell_type": "code",
   "execution_count": 136,
   "id": "2b6c40da",
   "metadata": {},
   "outputs": [],
   "source": [
    "#cdf = 0.5*(1+erf(x/sqrt(2)))\n",
    "d1 = (ln(P_i/Pm1*(1+delta*k))+0.5*v01)/(sqrt(v01))\n",
    "d2 = (ln(P_i/Pm1*(1+delta*k))-0.5*v01)/(sqrt(v01))\n",
    "\n",
    "cpl = simplify((1+delta*k)*(1/(1+delta*k)*Pm1*cdf.subs(x, -d2)-P_i*cdf.subs(x,-d1)))"
   ]
  },
  {
   "cell_type": "code",
   "execution_count": 137,
   "id": "24584664",
   "metadata": {},
   "outputs": [],
   "source": [
    "cpls = np.array([cpl.subs([(P_i, P[i]), (Pm1, P[i-1]), (delta, 0.5), (Ti, time[i]), (Tm1, time[i-1])]) for i in range(1, 8)])\n",
    "cpls = np.insert(cpls, 0, 0)"
   ]
  },
  {
   "cell_type": "code",
   "execution_count": 138,
   "id": "84f03500",
   "metadata": {},
   "outputs": [],
   "source": [
    "# combine caplets into 4 cap equations\n",
    "i = 2\n",
    "cpl_model = []\n",
    "while i <= 8:\n",
    "    cpl_model.append(sum(cpls[:i]))\n",
    "    i += 2\n",
    "cpl_model = np.array(cpl_model)\n",
    "cpl_model = np.array([cpl_model[i].subs(k, r) for i, r in zip(range(0, 4),R)])"
   ]
  },
  {
   "cell_type": "code",
   "execution_count": 71,
   "id": "15cae8fe",
   "metadata": {},
   "outputs": [],
   "source": [
    "# use expand to remove the square, since it will make problems in the minimization step\n",
    "Z = expand(sum(((cpl_model - quotes)**2/(cpl_vegas)**2)))"
   ]
  },
  {
   "cell_type": "code",
   "execution_count": 55,
   "id": "a71c34c4",
   "metadata": {},
   "outputs": [],
   "source": [
    "# using numpy\n",
    "replace_str = ['Phi', 'Abs', 'sqrt', 'log', 'exp']\n",
    "replacement = ['norm.cdf', 'np.abs', 'np.sqrt', 'np.log', 'np.exp']\n",
    "\n",
    "for r, re in zip(replace_str, replacement):\n",
    "    Z = str([Z][0]).replace(r, re)"
   ]
  },
  {
   "cell_type": "code",
   "execution_count": 56,
   "id": "92e10a59",
   "metadata": {},
   "outputs": [],
   "source": [
    "def Cal(x):\n",
    "    beta = x[0]\n",
    "    nu = x[1]\n",
    "    return eval(Z)"
   ]
  },
  {
   "cell_type": "code",
   "execution_count": 38,
   "id": "7fbb76d2",
   "metadata": {},
   "outputs": [
    {
     "data": {
      "text/plain": [
       " final_simplex: (array([[1.52102858, 0.02934939],\n",
       "       [1.52102858, 0.02934939],\n",
       "       [1.52102858, 0.02934939]]), array([0.00010328, 0.00010328, 0.00010328]))\n",
       "           fun: 0.00010328201851494967\n",
       "       message: 'Optimization terminated successfully.'\n",
       "          nfev: 298\n",
       "           nit: 131\n",
       "        status: 0\n",
       "       success: True\n",
       "             x: array([1.52102858, 0.02934939])"
      ]
     },
     "execution_count": 38,
     "metadata": {},
     "output_type": "execute_result"
    }
   ],
   "source": [
    "# minimize uisng Nelder-Mead algorithm\n",
    "minimize(Cal, [0.01, 0.01], method='Nelder-Mead', tol = 1e-25) #using low tolerance and mpmath we get high precision"
   ]
  },
  {
   "cell_type": "code",
   "execution_count": 57,
   "id": "71ad453d",
   "metadata": {},
   "outputs": [],
   "source": [
    "solvers = ['Nelder-Mead', 'CG', 'BFGS', 'L-BFGS-B', 'TNC', 'SLSQP', 'trust-constr']"
   ]
  },
  {
   "cell_type": "code",
   "execution_count": 58,
   "id": "dd4ea3e9",
   "metadata": {},
   "outputs": [
    {
     "name": "stderr",
     "output_type": "stream",
     "text": [
      "<string>:1: RuntimeWarning: invalid value encountered in double_scalars\n",
      "<string>:1: RuntimeWarning: invalid value encountered in sqrt\n"
     ]
    }
   ],
   "source": [
    "solvers_list = []\n",
    "beta_list = []\n",
    "nu_list = []\n",
    "for solver in solvers:\n",
    "    solution = minimize(Cal, [0.01, 0.01], method=solver)\n",
    "    solvers_list.append(solution.fun)\n",
    "    beta_list.append(solution.x[0])\n",
    "    nu_list.append(solution.x[1])"
   ]
  },
  {
   "cell_type": "code",
   "execution_count": 60,
   "id": "e0c23f77",
   "metadata": {},
   "outputs": [
    {
     "data": {
      "text/html": [
       "<div>\n",
       "<style scoped>\n",
       "    .dataframe tbody tr th:only-of-type {\n",
       "        vertical-align: middle;\n",
       "    }\n",
       "\n",
       "    .dataframe tbody tr th {\n",
       "        vertical-align: top;\n",
       "    }\n",
       "\n",
       "    .dataframe thead th {\n",
       "        text-align: right;\n",
       "    }\n",
       "</style>\n",
       "<table border=\"1\" class=\"dataframe\">\n",
       "  <thead>\n",
       "    <tr style=\"text-align: right;\">\n",
       "      <th></th>\n",
       "      <th>Solver</th>\n",
       "      <th>Objective Function</th>\n",
       "      <th>$\\beta$</th>\n",
       "      <th>$\\nu$</th>\n",
       "    </tr>\n",
       "  </thead>\n",
       "  <tbody>\n",
       "    <tr>\n",
       "      <th>1</th>\n",
       "      <td>BFGS</td>\n",
       "      <td>0.000103</td>\n",
       "      <td>1.4933</td>\n",
       "      <td>0.028975</td>\n",
       "    </tr>\n",
       "    <tr>\n",
       "      <th>2</th>\n",
       "      <td>L-BFGS-B</td>\n",
       "      <td>0.000104</td>\n",
       "      <td>1.478899</td>\n",
       "      <td>0.028762</td>\n",
       "    </tr>\n",
       "    <tr>\n",
       "      <th>4</th>\n",
       "      <td>SLSQP</td>\n",
       "      <td>0.000104</td>\n",
       "      <td>1.57261</td>\n",
       "      <td>0.030021</td>\n",
       "    </tr>\n",
       "    <tr>\n",
       "      <th>0</th>\n",
       "      <td>CG</td>\n",
       "      <td>0.000106</td>\n",
       "      <td>1.408858</td>\n",
       "      <td>0.027875</td>\n",
       "    </tr>\n",
       "    <tr>\n",
       "      <th>5</th>\n",
       "      <td>trust-constr</td>\n",
       "      <td>0.000106</td>\n",
       "      <td>1.407702</td>\n",
       "      <td>0.027847</td>\n",
       "    </tr>\n",
       "    <tr>\n",
       "      <th>3</th>\n",
       "      <td>TNC</td>\n",
       "      <td>0.001459</td>\n",
       "      <td>0.612322</td>\n",
       "      <td>0.016206</td>\n",
       "    </tr>\n",
       "  </tbody>\n",
       "</table>\n",
       "</div>"
      ],
      "text/plain": [
       "         Solver Objective Function   $\\beta$     $\\nu$\n",
       "1          BFGS           0.000103    1.4933  0.028975\n",
       "2      L-BFGS-B           0.000104  1.478899  0.028762\n",
       "4         SLSQP           0.000104   1.57261  0.030021\n",
       "0            CG           0.000106  1.408858  0.027875\n",
       "5  trust-constr           0.000106  1.407702  0.027847\n",
       "3           TNC           0.001459  0.612322  0.016206"
      ]
     },
     "execution_count": 60,
     "metadata": {},
     "output_type": "execute_result"
    }
   ],
   "source": [
    "df = pd.DataFrame([solvers, solvers_list, beta_list, nu_list]).T\n",
    "df.columns = ['Solver', 'Objective Function', r'$\\beta$', r'$\\nu$']\n",
    "df.sort_values('Objective Function')"
   ]
  },
  {
   "cell_type": "code",
   "execution_count": 139,
   "id": "086115ad",
   "metadata": {},
   "outputs": [],
   "source": [
    "table['ATM Strike'] = R*100\n",
    "table['Black\\'s implied Volatilties'] = impl_vol\n",
    "table['Caplet Vegas'] = cpl_vegas\n",
    "table['Model Prices'] = model_prices"
   ]
  },
  {
   "cell_type": "code",
   "execution_count": 177,
   "id": "1b685922",
   "metadata": {},
   "outputs": [],
   "source": [
    "table.columns = ['Market Quote', 'ATM Strike', 'Black\\'s implied Volatilties', 'Caplet Vegas',\n",
    "       'Model Prices']"
   ]
  },
  {
   "cell_type": "code",
   "execution_count": 183,
   "id": "e0c65040",
   "metadata": {},
   "outputs": [
    {
     "data": {
      "image/png": "[encoded data removed]",
      "text/plain": [
       "<Figure size 576x432 with 1 Axes>"
      ]
     },
     "metadata": {
      "needs_background": "light"
     },
     "output_type": "display_data"
    }
   ],
   "source": [
    "fig, ax = plt.subplots(figsize = [8, 6]);\n",
    "plt.plot(table.index, 'Market Quote', data = table, color = 'k', lw = 2, marker ='o', markersize=8, markerfacecolor = 'white', markeredgecolor = 'k', linestyle = '--')\n",
    "plt.plot(table.index, 'Model Prices', data = table, color = 'r', lw = 2, marker ='X', markersize=10, markerfacecolor = 'white', markeredgecolor = 'red', linestyle = '--')\n",
    "\n",
    "ax.set_xlabel('Maturity(yrs)', size = 14)\n",
    "ax.set_ylabel('Price(%)', size = 14)\n",
    "ax.spines[[\"top\", 'right']].set_visible(False)\n",
    "ax.tick_params(direction = 'in', length=8, width=2, colors='k',\n",
    "               grid_color='k', grid_alpha=.1)\n",
    "plt.legend(fontsize = 12, loc = 'center right');"
   ]
  },
  {
   "cell_type": "code",
   "execution_count": 200,
   "id": "51bac0d8",
   "metadata": {},
   "outputs": [],
   "source": [
    "Z = cpl_model-model_prices/100"
   ]
  },
  {
   "cell_type": "code",
   "execution_count": 201,
   "id": "e1a5f585",
   "metadata": {},
   "outputs": [],
   "source": [
    "equations_list = []\n",
    "for eq in Z:\n",
    "    equations_list.append(str([eq][0]).replace('Phi', 'norm.cdf'))"
   ]
  },
  {
   "cell_type": "code",
   "execution_count": 202,
   "id": "84543cf4",
   "metadata": {},
   "outputs": [],
   "source": [
    "# calibrate ATM cap prices\n",
    "import math\n",
    "\n",
    "def Z0(sigma):\n",
    "    return eval(equations_list[0])\n",
    "def Z1(sigma):\n",
    "    return eval(equations_list[1])\n",
    "def Z2(sigma):\n",
    "    return eval(equations_list[2])\n",
    "def Z3(sigma):\n",
    "    return eval(equations_list[3])\n"
   ]
  },
  {
   "cell_type": "code",
   "execution_count": 203,
   "id": "b1bf2ff4",
   "metadata": {},
   "outputs": [],
   "source": [
    "# solve for the implied volatilities\n",
    "import scipy\n",
    "impl_vol_model = [scipy.optimize.fsolve(func, 1)[0] for func in [Z0, Z1, Z2, Z3]]"
   ]
  },
  {
   "cell_type": "code",
   "execution_count": 207,
   "id": "85224860",
   "metadata": {},
   "outputs": [],
   "source": [
    "table['Model IV'] = np.array(impl_vol_model)"
   ]
  },
  {
   "cell_type": "code",
   "execution_count": 212,
   "id": "006a9eaf",
   "metadata": {},
   "outputs": [
    {
     "data": {
      "image/png": "[encoded data removed]",
      "text/plain": [
       "<Figure size 576x432 with 1 Axes>"
      ]
     },
     "metadata": {
      "needs_background": "light"
     },
     "output_type": "display_data"
    }
   ],
   "source": [
    "fig, ax = plt.subplots(figsize = [8, 6]);\n",
    "plt.plot(table.index, 'Black\\'s implied Volatilties', data = table*100, color = 'k', lw = 2, marker ='o', markersize=8, markerfacecolor = 'white', markeredgecolor = 'k', linestyle = '--')\n",
    "plt.plot(table.index, 'Model IV', data = table*100, color = 'r', lw = 2, marker ='X', markersize=10, markerfacecolor = 'white', markeredgecolor = 'red', linestyle = '--')\n",
    "\n",
    "ax.set_xlabel('Maturity(yrs)', size = 14)\n",
    "ax.set_ylabel('Black IV(%)', size = 14)\n",
    "ax.spines[[\"top\", 'right']].set_visible(False)\n",
    "ax.tick_params(direction = 'in', length=8, width=2, colors='k',\n",
    "               grid_color='k', grid_alpha=.1)\n",
    "plt.legend(fontsize = 12, labels = ['Quote', 'Model'],loc = 'upper right');"
   ]
  }
 ],
 "metadata": {
  "kernelspec": {
   "display_name": "Python 3 (ipykernel)",
   "language": "python",
   "name": "python3"
  },
  "language_info": {
   "codemirror_mode": {
    "name": "ipython",
    "version": 3
   },
   "file_extension": ".py",
   "mimetype": "text/x-python",
   "name": "python",
   "nbconvert_exporter": "python",
   "pygments_lexer": "ipython3",
   "version": "3.9.7"
  }
 },
 "nbformat": 4,
 "nbformat_minor": 5
}
